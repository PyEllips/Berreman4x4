{
  "cells": [
    {
      "cell_type": "code",
      "execution_count": null,
      "metadata": {
        "collapsed": false
      },
      "outputs": [],
      "source": [
        "%matplotlib inline"
      ]
    },
    {
      "cell_type": "markdown",
      "metadata": {},
      "source": [
        "\n",
        "# Mueller matrix\n",
        "\n",
        "Mueller matrix fit to a SiO2 on Si measurement.\n"
      ]
    },
    {
      "cell_type": "code",
      "execution_count": null,
      "metadata": {
        "collapsed": false
      },
      "outputs": [],
      "source": [
        "import elli\n",
        "from elli.fitting import ParamsHist, fit_mueller_matrix\n",
        "\n",
        "# sphinx_gallery_thumbnail_path = '_static/mueller_matrix.png'"
      ]
    },
    {
      "cell_type": "markdown",
      "metadata": {},
      "source": [
        "## Read data\n",
        "\n",
        "We load the data from an ascii file containing each of the mueller matrix elements.\n",
        "The wavelength range is cut to be in between 210 nm and 820 nm,\n",
        "to stay in the range of the provided literature values for Si.\n",
        "The data is expected to be in a pandas dataframe containing the columns Mxy,\n",
        "where x and y refer to the matrix element inside the mueller matrix.\n",
        "The data is scaled by the M11 element, such that $M_{11} = 1$ for all wavelengths.\n",
        "To show the structure we print the `MM` dataframe.\n",
        "If you load your data from another source make sure it adheres to this form.\n",
        "\n"
      ]
    },
    {
      "cell_type": "code",
      "execution_count": null,
      "metadata": {
        "collapsed": false
      },
      "outputs": [],
      "source": [
        "MM = elli.SpectraRay.read_mmatrix(\"Wafer_MM_70.txt\").loc[210:820]\n",
        "print(MM)"
      ]
    },
    {
      "cell_type": "markdown",
      "metadata": {},
      "source": [
        "## Setting start parameters\n",
        "Here we set the start parameters for the SiO2 cauchy dispersion\n",
        "and thickness of the layer.\n",
        "\n"
      ]
    },
    {
      "cell_type": "code",
      "execution_count": null,
      "metadata": {
        "collapsed": false
      },
      "outputs": [],
      "source": [
        "params = ParamsHist()\n",
        "params.add(\"SiO2_n0\", value=1.452, min=-100, max=100, vary=True)\n",
        "params.add(\"SiO2_n1\", value=36.0, min=-40000, max=40000, vary=True)\n",
        "params.add(\"SiO2_n2\", value=0, min=-40000, max=40000, vary=True)\n",
        "params.add(\"SiO2_k0\", value=0, min=-100, max=100, vary=True)\n",
        "params.add(\"SiO2_k1\", value=0, min=-40000, max=40000, vary=True)\n",
        "params.add(\"SiO2_k2\", value=0, min=-40000, max=40000, vary=True)\n",
        "params.add(\"SiO2_d\", value=120, min=0, max=40000, vary=True)"
      ]
    },
    {
      "cell_type": "markdown",
      "metadata": {},
      "source": [
        "## Building the model\n",
        "Here the model is build and the experimental structure is returned.\n",
        "For details on this process please refer to the `Basic usage` example.\n",
        "When executed in an jupyter notebook this displays an interactive graph\n",
        "with which you can select the start parameters before fitting the data.\n",
        "\n"
      ]
    },
    {
      "cell_type": "code",
      "execution_count": null,
      "metadata": {
        "collapsed": false
      },
      "outputs": [],
      "source": [
        "@fit_mueller_matrix(MM, params, display_single=False, sharex=True, full_scale=False)\n",
        "def model(lbda, params):\n",
        "    sr = elli.SpectraRay(\"./\")\n",
        "    Si = elli.IsotropicMaterial(sr.loadDispersionTable(\"Si_Aspnes.mat\"))\n",
        "\n",
        "    SiO2 = elli.Cauchy(\n",
        "        params[\"SiO2_n0\"],\n",
        "        params[\"SiO2_n1\"],\n",
        "        params[\"SiO2_n2\"],\n",
        "        params[\"SiO2_k0\"],\n",
        "        params[\"SiO2_k1\"],\n",
        "        params[\"SiO2_k2\"],\n",
        "    ).get_mat()\n",
        "\n",
        "    Layer = [elli.Layer(SiO2, params[\"SiO2_d\"])]\n",
        "\n",
        "    return elli.Structure(elli.AIR, Layer, Si).evaluate(\n",
        "        lbda, 70, solver=elli.Solver4x4, propagator=elli.PropagatorExpm()\n",
        "    )"
      ]
    },
    {
      "cell_type": "markdown",
      "metadata": {},
      "source": [
        "## Plot & Fit the model\n",
        "Here we plot the model at the initial parameter set vs. the experimental data.\n",
        "\n"
      ]
    },
    {
      "cell_type": "code",
      "execution_count": null,
      "metadata": {
        "collapsed": false
      },
      "outputs": [],
      "source": [
        "model.plot()"
      ]
    },
    {
      "cell_type": "markdown",
      "metadata": {},
      "source": [
        "We can also plot the residual between measurement and model.\n",
        "\n"
      ]
    },
    {
      "cell_type": "code",
      "execution_count": null,
      "metadata": {
        "collapsed": false
      },
      "outputs": [],
      "source": [
        "model.plot_residual()"
      ]
    },
    {
      "cell_type": "markdown",
      "metadata": {},
      "source": [
        "Now we execute a fit and plot the model afterwards.\n",
        "\n"
      ]
    },
    {
      "cell_type": "code",
      "execution_count": null,
      "metadata": {
        "collapsed": false
      },
      "outputs": [],
      "source": [
        "fit_stats = model.fit()\n",
        "model.plot(full_scale=False)"
      ]
    },
    {
      "cell_type": "markdown",
      "metadata": {},
      "source": [
        "For comparison we plot the residual again to have a figure of merit\n",
        "for the fit quality\n",
        "\n"
      ]
    },
    {
      "cell_type": "code",
      "execution_count": null,
      "metadata": {
        "collapsed": false
      },
      "outputs": [],
      "source": [
        "model.plot_residual()"
      ]
    },
    {
      "cell_type": "markdown",
      "metadata": {},
      "source": [
        "We may also print the fit statistics.\n",
        "\n"
      ]
    },
    {
      "cell_type": "code",
      "execution_count": null,
      "metadata": {
        "collapsed": false
      },
      "outputs": [],
      "source": [
        "fit_stats"
      ]
    },
    {
      "cell_type": "markdown",
      "metadata": {},
      "source": [
        "## References\n",
        "[Here](https://github.com/PyEllips/pyElli/tree/master/examples/SiO2_Si%20Mueller%20Matrix)\n",
        "you can find the latest jupyter notebook and data files of this example.\n",
        "\n"
      ]
    }
  ],
  "metadata": {
    "kernelspec": {
      "display_name": "Python 3",
      "language": "python",
      "name": "python3"
    },
    "language_info": {
      "codemirror_mode": {
        "name": "ipython",
        "version": 3
      },
      "file_extension": ".py",
      "mimetype": "text/x-python",
      "name": "python",
      "nbconvert_exporter": "python",
      "pygments_lexer": "ipython3",
      "version": "3.9.13"
    }
  },
  "nbformat": 4,
  "nbformat_minor": 0
}

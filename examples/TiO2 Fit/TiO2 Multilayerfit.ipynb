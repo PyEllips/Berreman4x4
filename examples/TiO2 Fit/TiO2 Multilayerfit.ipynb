{
  "cells": [
    {
      "cell_type": "code",
      "execution_count": null,
      "metadata": {
        "collapsed": false
      },
      "outputs": [],
      "source": [
        "%matplotlib inline"
      ]
    },
    {
      "attachments": {},
      "cell_type": "markdown",
      "metadata": {},
      "source": [
        "\n",
        "# Multilayer fit\n",
        "\n",
        "Fits a multilayer model to an ALD grown TiO2 sample on SiO2 / Si.\n"
      ]
    },
    {
      "cell_type": "code",
      "execution_count": null,
      "metadata": {
        "collapsed": false
      },
      "outputs": [],
      "source": [
        "import elli\n",
        "from elli.fitting import ParamsHist, fit\n",
        "\n",
        "# sphinx_gallery_thumbnail_path = '_static/multilayer.png'"
      ]
    },
    {
      "attachments": {},
      "cell_type": "markdown",
      "metadata": {},
      "source": [
        "## Load data\n",
        "\n",
        "Load data collected with Sentech Ellipsometer and cut the spectral range (to use Si Aspnes file)\n",
        "\n",
        "The sample is an ALD grown TiO2 sample (with 400 cycles)\n",
        "on commercially available SiO2 / Si substrate.\n",
        "\n"
      ]
    },
    {
      "cell_type": "code",
      "execution_count": null,
      "metadata": {
        "collapsed": false
      },
      "outputs": [],
      "source": [
        "tss = elli.read_spectraray_psi_delta(\"TiO2_400cycles.txt\").loc[70.06][400:800]"
      ]
    },
    {
      "attachments": {},
      "cell_type": "markdown",
      "metadata": {},
      "source": [
        "## Set start parameters\n",
        "Here we set the start parameters for the TiO2 and SiO2 layer.\n",
        "We set the SiO2 layer parameters to a fixed value from another\n",
        "fit of the substrate. See the `Basic usage` example for details\n",
        "on how to perform such a fit.\n",
        "In general it is a good idea to fit your data layer-wise if possible\n",
        "to yield a better fit quality.\n",
        "\n"
      ]
    },
    {
      "cell_type": "code",
      "execution_count": null,
      "metadata": {
        "collapsed": false
      },
      "outputs": [],
      "source": [
        "params = ParamsHist()\n",
        "params.add(\"SiO2_n0\", value=1.452, min=-100, max=100, vary=False)\n",
        "params.add(\"SiO2_n1\", value=36.0, min=-40000, max=40000, vary=False)\n",
        "params.add(\"SiO2_n2\", value=0, min=-40000, max=40000, vary=False)\n",
        "params.add(\"SiO2_k0\", value=0, min=-100, max=100, vary=False)\n",
        "params.add(\"SiO2_k1\", value=0, min=-40000, max=40000, vary=False)\n",
        "params.add(\"SiO2_k2\", value=0, min=-40000, max=40000, vary=False)\n",
        "params.add(\"SiO2_d\", value=276.36, min=0, max=40000, vary=False)\n",
        "\n",
        "params.add(\"TiO2_n0\", value=2.236, min=-100, max=100, vary=True)\n",
        "params.add(\"TiO2_n1\", value=451, min=-40000, max=40000, vary=True)\n",
        "params.add(\"TiO2_n2\", value=251, min=-40000, max=40000, vary=True)\n",
        "params.add(\"TiO2_k0\", value=0, min=-100, max=100, vary=False)\n",
        "params.add(\"TiO2_k1\", value=0, min=-40000, max=40000, vary=False)\n",
        "params.add(\"TiO2_k2\", value=0, min=-40000, max=40000, vary=False)\n",
        "\n",
        "params.add(\"TiO2_d\", value=20, min=0, max=40000, vary=True)"
      ]
    },
    {
      "attachments": {},
      "cell_type": "markdown",
      "metadata": {},
      "source": [
        "## Load silicon dispersion from the refractiveindexinfo database\n",
        "You can load any material from the index\n",
        "[refractiveindex.info](https://refractiveindex.info)_, which is\n",
        "embedded into the software (so you may use it offline, too). Here, we\n",
        "are interested in the literature values for the silicon substrate.\n",
        "First we need to load the database with ``rii_db = elli.db.RII()`` and\n",
        "then we can query it with ``rii_db.get_mat(\"Si\", \"Aspnes\")`` to load\n",
        "this\n",
        "[entry](https://refractiveindex.info/?shelf=main&book=Si&page=Aspnes)_.\n",
        "\n"
      ]
    },
    {
      "cell_type": "code",
      "execution_count": null,
      "metadata": {
        "collapsed": false
      },
      "outputs": [],
      "source": [
        "rii_db = elli.db.RII()\n",
        "Si = rii_db.get_mat(\"Si\", \"Aspnes\")"
      ]
    },
    {
      "attachments": {},
      "cell_type": "markdown",
      "metadata": {},
      "source": [
        "## Building the model\n",
        "Here the model is build and the experimental structure is returned.\n",
        "For details on this process please refer to the `Basic usage` example.\n",
        "When executed in an jupyter notebook this displays an interactive graph\n",
        "with which you can select the start parameters before fitting the data.\n",
        "\n"
      ]
    },
    {
      "cell_type": "code",
      "execution_count": null,
      "metadata": {
        "collapsed": false
      },
      "outputs": [],
      "source": [
        "@fit(tss, params)\n",
        "def model(lbda, params):\n",
        "    SiO2 = elli.Cauchy(\n",
        "        params[\"SiO2_n0\"],\n",
        "        params[\"SiO2_n1\"],\n",
        "        params[\"SiO2_n2\"],\n",
        "        params[\"SiO2_k0\"],\n",
        "        params[\"SiO2_k1\"],\n",
        "        params[\"SiO2_k2\"],\n",
        "    ).get_mat()\n",
        "    TiO2 = elli.Cauchy(\n",
        "        params[\"TiO2_n0\"],\n",
        "        params[\"TiO2_n1\"],\n",
        "        params[\"TiO2_n2\"],\n",
        "        params[\"TiO2_k0\"],\n",
        "        params[\"TiO2_k1\"],\n",
        "        params[\"TiO2_k2\"],\n",
        "    ).get_mat()\n",
        "\n",
        "    Layer = [elli.Layer(TiO2, params[\"TiO2_d\"]), elli.Layer(SiO2, params[\"SiO2_d\"])]\n",
        "\n",
        "    return elli.Structure(elli.AIR, Layer, Si).evaluate(lbda, 70, solver=elli.Solver2x2)\n",
        "    # Alternative: Use 4x4 Solver with scipy propagator\n",
        "    # return elli.Structure(elli.AIR, Layer, Si).evaluate(lbda, 70, solver=elli.Solver4x4, propagator=elli.PropagatorExpm())"
      ]
    },
    {
      "attachments": {},
      "cell_type": "markdown",
      "metadata": {},
      "source": [
        "## Plot & Fit model\n",
        "We plot the model to see the deviation with the initial parameters.\n",
        "\n"
      ]
    },
    {
      "cell_type": "code",
      "execution_count": null,
      "metadata": {
        "collapsed": false
      },
      "outputs": [],
      "source": [
        "model.plot()"
      ]
    },
    {
      "attachments": {},
      "cell_type": "markdown",
      "metadata": {},
      "source": [
        "Now lets perform the fit and plot the comparison of\n",
        "calculation and experimental data afterwards.\n",
        "\n"
      ]
    },
    {
      "cell_type": "code",
      "execution_count": null,
      "metadata": {
        "collapsed": false
      },
      "outputs": [],
      "source": [
        "fit_stats = model.fit()\n",
        "model.plot()"
      ]
    },
    {
      "attachments": {},
      "cell_type": "markdown",
      "metadata": {},
      "source": [
        "We can also have a look at the fit statistics.\n",
        "\n"
      ]
    },
    {
      "cell_type": "code",
      "execution_count": null,
      "metadata": {
        "collapsed": false
      },
      "outputs": [],
      "source": [
        "fit_stats"
      ]
    },
    {
      "attachments": {},
      "cell_type": "markdown",
      "metadata": {},
      "source": [
        "## References\n",
        "[Here](https://github.com/PyEllips/pyElli/tree/master/examples/TiO2%20Fit)\n",
        "you can find the latest jupyter notebook and data files of this example.\n",
        "\n"
      ]
    }
  ],
  "metadata": {
    "kernelspec": {
      "display_name": "Python 3",
      "language": "python",
      "name": "python3"
    },
    "language_info": {
      "codemirror_mode": {
        "name": "ipython",
        "version": 3
      },
      "file_extension": ".py",
      "mimetype": "text/x-python",
      "name": "python",
      "nbconvert_exporter": "python",
      "pygments_lexer": "ipython3",
      "version": "3.9.13"
    }
  },
  "nbformat": 4,
  "nbformat_minor": 0
}
